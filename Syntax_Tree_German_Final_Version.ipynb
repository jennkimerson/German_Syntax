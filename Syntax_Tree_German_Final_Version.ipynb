{
  "nbformat": 4,
  "nbformat_minor": 0,
  "metadata": {
    "colab": {
      "name": "Syntax Tree German - Final Version.ipynb",
      "provenance": [],
      "collapsed_sections": [],
      "authorship_tag": "ABX9TyP5YrxxQlb4Ti+Ow7gk1PNB",
      "include_colab_link": true
    },
    "kernelspec": {
      "name": "python3",
      "display_name": "Python 3"
    },
    "language_info": {
      "name": "python"
    }
  },
  "cells": [
    {
      "cell_type": "markdown",
      "metadata": {
        "id": "view-in-github",
        "colab_type": "text"
      },
      "source": [
        "<a href=\"https://colab.research.google.com/github/jennkimerson/German_Syntax/blob/main/Syntax_Tree_German_Final_Version.ipynb\" target=\"_parent\"><img src=\"https://colab.research.google.com/assets/colab-badge.svg\" alt=\"Open In Colab\"/></a>"
      ]
    },
    {
      "cell_type": "markdown",
      "metadata": {
        "id": "WyR6qLVXOto4"
      },
      "source": [
        "# Set up\n",
        "Import NLTK, Natural Language Toolkit"
      ]
    },
    {
      "cell_type": "code",
      "metadata": {
        "colab": {
          "base_uri": "https://localhost:8080/"
        },
        "id": "teUxDyzPOK5e",
        "outputId": "0239182a-f1bf-4729-d3be-8688727cb3a5"
      },
      "source": [
        "import nltk\n",
        "nltk.download('punkt')\n",
        "nltk.download('averaged_perceptron_tagger')\n",
        "nltk.download('tagsets')\n",
        "\n",
        "from nltk import pos_tag, word_tokenize, RegexpParser"
      ],
      "execution_count": 1,
      "outputs": [
        {
          "output_type": "stream",
          "text": [
            "[nltk_data] Downloading package punkt to /root/nltk_data...\n",
            "[nltk_data]   Package punkt is already up-to-date!\n",
            "[nltk_data] Downloading package averaged_perceptron_tagger to\n",
            "[nltk_data]     /root/nltk_data...\n",
            "[nltk_data]   Package averaged_perceptron_tagger is already up-to-\n",
            "[nltk_data]       date!\n",
            "[nltk_data] Downloading package tagsets to /root/nltk_data...\n",
            "[nltk_data]   Package tagsets is already up-to-date!\n"
          ],
          "name": "stdout"
        }
      ]
    },
    {
      "cell_type": "markdown",
      "metadata": {
        "id": "8rBQP2dRO9po"
      },
      "source": [
        "# Sentence recognition (Satzerkennung)\n",
        "Read in an input sentence"
      ]
    },
    {
      "cell_type": "code",
      "metadata": {
        "id": "8jqfLAErOar2"
      },
      "source": [
        "# Example text\n",
        "sentence = \"Es ist traurig, dass alle Menschen sterben müssen\""
      ],
      "execution_count": 2,
      "outputs": []
    },
    {
      "cell_type": "markdown",
      "metadata": {
        "id": "1PPjYHf2PBl_"
      },
      "source": [
        "# Tokenization\n",
        "Set parsing language as German, rather than the default (English)"
      ]
    },
    {
      "cell_type": "code",
      "metadata": {
        "id": "5-wPjy9mOdt-"
      },
      "source": [
        "tokenized_sent = nltk.tokenize.word_tokenize(sentence,language='german')"
      ],
      "execution_count": 3,
      "outputs": []
    },
    {
      "cell_type": "markdown",
      "metadata": {
        "id": "JPqIlsuLOyTq"
      },
      "source": [
        "# Lemmatization (Lemmatisierung)\n",
        "\n",
        "Install Hanover Tagger"
      ]
    },
    {
      "cell_type": "code",
      "metadata": {
        "colab": {
          "base_uri": "https://localhost:8080/"
        },
        "id": "1bWysxUKN9J9",
        "outputId": "7bbe2720-dae4-4952-d3ce-d3208ec8a205"
      },
      "source": [
        "!pip install HanTa\n",
        "\n",
        "from HanTa import HanoverTagger as ht\n",
        "\n",
        "tagger = ht.HanoverTagger('morphmodel_ger.pgz')\n",
        "\n",
        "#test to see if the tagger works\n",
        "# print(tagger.analyze('Fachmärkte'))"
      ],
      "execution_count": 4,
      "outputs": [
        {
          "output_type": "stream",
          "text": [
            "Requirement already satisfied: HanTa in /usr/local/lib/python3.7/dist-packages (0.2.0)\n"
          ],
          "name": "stdout"
        }
      ]
    },
    {
      "cell_type": "markdown",
      "metadata": {
        "id": "akepZgIFPXcp"
      },
      "source": [
        "# Part-of-Speech Tagging (Wortarterkennung) \n",
        "\n",
        "Find all parts of speech in input sentence"
      ]
    },
    {
      "cell_type": "code",
      "metadata": {
        "id": "Z71rT9ZeRYGR"
      },
      "source": [
        "# Reference for Part-of-Speech Tagging\n",
        "# nltk.help.upenn_tagset()"
      ],
      "execution_count": 5,
      "outputs": []
    },
    {
      "cell_type": "code",
      "metadata": {
        "colab": {
          "base_uri": "https://localhost:8080/"
        },
        "id": "7w1eLUO0Pt9U",
        "outputId": "f9ba112f-12e5-4ae9-b45b-3d08a4c758e9"
      },
      "source": [
        "tags = tagger.tag_sent(tokenized_sent)\n",
        "print(tags)"
      ],
      "execution_count": 6,
      "outputs": [
        {
          "output_type": "stream",
          "text": [
            "[('Es', 'es', 'PPER'), ('ist', 'sein', 'VAFIN'), ('traurig', 'traurig', 'ADJD'), (',', '--', '$,'), ('dass', 'dass', 'KOUS'), ('alle', 'alle', 'PIAT'), ('Menschen', 'Mensch', 'NN'), ('sterben', 'sterben', 'VVINF'), ('müssen', 'müssen', 'VMINF')]\n"
          ],
          "name": "stdout"
        }
      ]
    },
    {
      "cell_type": "code",
      "metadata": {
        "colab": {
          "base_uri": "https://localhost:8080/"
        },
        "id": "oYSIWqfTOplw",
        "outputId": "bb7aa712-29d6-4b28-a1b2-570b90c1859c"
      },
      "source": [
        "#trim data\n",
        "pos_tags = [tag[1:] for tag in tags if tag[2] != '$,']\n",
        "print(pos_tags)"
      ],
      "execution_count": 7,
      "outputs": [
        {
          "output_type": "stream",
          "text": [
            "[('es', 'PPER'), ('sein', 'VAFIN'), ('traurig', 'ADJD'), ('dass', 'KOUS'), ('alle', 'PIAT'), ('Mensch', 'NN'), ('sterben', 'VVINF'), ('müssen', 'VMINF')]\n"
          ],
          "name": "stdout"
        }
      ]
    },
    {
      "cell_type": "markdown",
      "metadata": {
        "id": "0o0PCESSQPX0"
      },
      "source": [
        "Construct the grammatical rules of German (manually)"
      ]
    },
    {
      "cell_type": "code",
      "metadata": {
        "id": "NZ7G1W9lQN-A"
      },
      "source": [
        "chunker = RegexpParser(\"\"\"\n",
        "                       S: {<NP> <VP>}\n",
        "                       S: {<S> <CC>}\n",
        "                       C:{<KOUS|PWS|PRELS>}\n",
        "                       NP: {<DT>?<JJ|PIAT>*<NN|PPOSAT>*} #To extract Noun Phrases\n",
        "                       NP: {<PPER|PDS|NE>}\n",
        "                       P: {<IN>}                        #To extract Prepositions\n",
        "                       V: {<V.*>}                       #To extract Verbs\n",
        "                       PP: {<P|APPR> <NP>}              #To extract Prepostional Phrases\n",
        "                       VP: {<V> <NP|PP|V|ADVP|ADJD>*}   #To extarct Verb Phrases\n",
        "                       ADVP: {<ADV> <ADV|ADJD>}         #To extract Adverbil Phrases\n",
        "                       IP: {<NP|,>+<VP>?}\n",
        "                       CC:{<C|,>+<IP>?}\n",
        "                       \"\"\")"
      ],
      "execution_count": 8,
      "outputs": []
    },
    {
      "cell_type": "code",
      "metadata": {
        "colab": {
          "base_uri": "https://localhost:8080/"
        },
        "id": "dbMQlW3-QWSR",
        "outputId": "c2953132-d084-4c59-b880-4e01f59139ce"
      },
      "source": [
        "output = chunker.parse(pos_tags)\n",
        "print(output)"
      ],
      "execution_count": 9,
      "outputs": [
        {
          "output_type": "stream",
          "text": [
            "(S\n",
            "  (IP (NP es/PPER) (VP (V sein/VAFIN) traurig/ADJD))\n",
            "  (CC\n",
            "    (C dass/KOUS)\n",
            "    (IP\n",
            "      (NP alle/PIAT Mensch/NN)\n",
            "      (VP (V sterben/VVINF) (V müssen/VMINF)))))\n"
          ],
          "name": "stdout"
        }
      ]
    },
    {
      "cell_type": "markdown",
      "metadata": {
        "id": "nAO3I7YcQclz"
      },
      "source": [
        "# Construct Syntax Tree\n",
        "\n",
        "Setup:"
      ]
    },
    {
      "cell_type": "code",
      "metadata": {
        "colab": {
          "base_uri": "https://localhost:8080/"
        },
        "id": "r29T0C1-QcO7",
        "outputId": "80ddf923-14c8-4480-b44a-992cb6d36ea3"
      },
      "source": [
        "!apt-get install -y xvfb # Install X Virtual Frame Buffer\n",
        "import os\n",
        "os.system('Xvfb :1 -screen 0 1600x1200x16  &')    # create virtual display with size 1600x1200 and 16 bit color. Color can be changed to 24 or 8\n",
        "os.environ['DISPLAY']=':1.0'    # tell X clients to use our virtual DISPLAY :1.0."
      ],
      "execution_count": 10,
      "outputs": [
        {
          "output_type": "stream",
          "text": [
            "Reading package lists... Done\n",
            "Building dependency tree       \n",
            "Reading state information... Done\n",
            "xvfb is already the newest version (2:1.19.6-1ubuntu4.9).\n",
            "The following package was automatically installed and is no longer required:\n",
            "  libnvidia-common-460\n",
            "Use 'apt autoremove' to remove it.\n",
            "0 upgraded, 0 newly installed, 0 to remove and 34 not upgraded.\n"
          ],
          "name": "stdout"
        }
      ]
    },
    {
      "cell_type": "code",
      "metadata": {
        "id": "_8BtD3DoQicb"
      },
      "source": [
        "%matplotlib inline"
      ],
      "execution_count": 11,
      "outputs": []
    },
    {
      "cell_type": "code",
      "metadata": {
        "colab": {
          "base_uri": "https://localhost:8080/"
        },
        "id": "n39UpOjAQjAC",
        "outputId": "edf4efda-d6b7-430e-88a7-0b2f6f3f90d0"
      },
      "source": [
        "!apt install ghostscript python3-tk"
      ],
      "execution_count": 12,
      "outputs": [
        {
          "output_type": "stream",
          "text": [
            "Reading package lists... Done\n",
            "Building dependency tree       \n",
            "Reading state information... Done\n",
            "ghostscript is already the newest version (9.26~dfsg+0-0ubuntu0.18.04.14).\n",
            "python3-tk is already the newest version (3.6.9-1~18.04).\n",
            "The following package was automatically installed and is no longer required:\n",
            "  libnvidia-common-460\n",
            "Use 'apt autoremove' to remove it.\n",
            "0 upgraded, 0 newly installed, 0 to remove and 34 not upgraded.\n"
          ],
          "name": "stdout"
        }
      ]
    },
    {
      "cell_type": "markdown",
      "metadata": {
        "id": "f6DtbsVtQk5x"
      },
      "source": [
        "Draw Syntax Tree:"
      ]
    },
    {
      "cell_type": "code",
      "metadata": {
        "colab": {
          "base_uri": "https://localhost:8080/",
          "height": 211
        },
        "id": "TLans5F_QkUa",
        "outputId": "042fd8a4-8729-4de5-b33d-43aa8d74cbae"
      },
      "source": [
        "from nltk.tree import Tree\n",
        "from IPython.display import display\n",
        "\n",
        "tree = Tree.fromstring(str(output))\n",
        "display(tree)"
      ],
      "execution_count": 13,
      "outputs": [
        {
          "output_type": "display_data",
          "data": {
            "image/png": "[encoded data removed]",
            "text/plain": [
              "Tree('S', [Tree('IP', [Tree('NP', ['es/PPER']), Tree('VP', [Tree('V', ['sein/VAFIN']), 'traurig/ADJD'])]), Tree('CC', [Tree('C', ['dass/KOUS']), Tree('IP', [Tree('NP', ['alle/PIAT', 'Mensch/NN']), Tree('VP', [Tree('V', ['sterben/VVINF']), Tree('V', ['müssen/VMINF'])])])])])"
            ]
          },
          "metadata": {
            "tags": []
          }
        }
      ]
    },
    {
      "cell_type": "markdown",
      "metadata": {
        "id": "KQ_1e_eTVG_j"
      },
      "source": [
        "# Citation:\n",
        "\n",
        "https://textmining.wp.hs-hannover.de/Preprocessing.html\n",
        "\n",
        "https://theclassicjournal.uga.edu/index.php/2020/10/29/under-the-surface/\n",
        "\n",
        "https://github.com/Simon-Will/montesniere"
      ]
    }
  ]
}