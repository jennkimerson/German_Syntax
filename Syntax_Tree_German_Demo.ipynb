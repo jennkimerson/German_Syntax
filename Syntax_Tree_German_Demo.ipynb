{
  "nbformat": 4,
  "nbformat_minor": 0,
  "metadata": {
    "colab": {
      "name": "Syntax Tree German - Demo.ipynb",
      "provenance": [],
      "collapsed_sections": [],
      "authorship_tag": "ABX9TyNzlRsktlG/HHHUO6340PPn",
      "include_colab_link": true
    },
    "kernelspec": {
      "name": "python3",
      "display_name": "Python 3"
    },
    "language_info": {
      "name": "python"
    }
  },
  "cells": [
    {
      "cell_type": "markdown",
      "metadata": {
        "id": "view-in-github",
        "colab_type": "text"
      },
      "source": [
        "<a href=\"https://colab.research.google.com/github/jennkimerson/German_Syntax/blob/main/Syntax_Tree_German_Demo.ipynb\" target=\"_parent\"><img src=\"https://colab.research.google.com/assets/colab-badge.svg\" alt=\"Open In Colab\"/></a>"
      ]
    },
    {
      "cell_type": "code",
      "metadata": {
        "colab": {
          "base_uri": "https://localhost:8080/"
        },
        "id": "5-UEKa0uezM4",
        "outputId": "243231da-65e3-4d30-8580-50c1e8994534"
      },
      "source": [
        "# import nltk settings\n",
        "import nltk\n",
        "nltk.download('punkt')\n",
        "nltk.download('averaged_perceptron_tagger')\n",
        "nltk.download('tagsets')\n",
        "\n",
        "from nltk import pos_tag, word_tokenize, RegexpParser\n",
        "\n",
        "!pip install HanTa\n",
        "\n",
        "from HanTa import HanoverTagger as ht"
      ],
      "execution_count": 48,
      "outputs": [
        {
          "output_type": "stream",
          "text": [
            "[nltk_data] Downloading package punkt to /root/nltk_data...\n",
            "[nltk_data]   Package punkt is already up-to-date!\n",
            "[nltk_data] Downloading package averaged_perceptron_tagger to\n",
            "[nltk_data]     /root/nltk_data...\n",
            "[nltk_data]   Package averaged_perceptron_tagger is already up-to-\n",
            "[nltk_data]       date!\n",
            "[nltk_data] Downloading package tagsets to /root/nltk_data...\n",
            "[nltk_data]   Package tagsets is already up-to-date!\n",
            "Requirement already satisfied: HanTa in /usr/local/lib/python3.7/dist-packages (0.2.0)\n"
          ],
          "name": "stdout"
        }
      ]
    },
    {
      "cell_type": "code",
      "metadata": {
        "colab": {
          "base_uri": "https://localhost:8080/"
        },
        "id": "89lwRZlzfHvF",
        "outputId": "af30a238-867d-49bf-f137-6b26e550013f"
      },
      "source": [
        "# import tree visualization setup\n",
        "!apt-get install -y xvfb # Install X Virtual Frame Buffer\n",
        "import os\n",
        "os.system('Xvfb :1 -screen 0 1600x1200x16  &')    # create virtual display with size 1600x1200 and 16 bit color. Color can be changed to 24 or 8\n",
        "os.environ['DISPLAY']=':1.0'    # tell X clients to use our virtual DISPLAY :1.0.\n",
        "\n",
        "%matplotlib inline\n",
        "\n",
        "!apt install ghostscript python3-tk"
      ],
      "execution_count": 49,
      "outputs": [
        {
          "output_type": "stream",
          "text": [
            "Reading package lists... Done\n",
            "Building dependency tree       \n",
            "Reading state information... Done\n",
            "xvfb is already the newest version (2:1.19.6-1ubuntu4.9).\n",
            "The following package was automatically installed and is no longer required:\n",
            "  libnvidia-common-460\n",
            "Use 'apt autoremove' to remove it.\n",
            "0 upgraded, 0 newly installed, 0 to remove and 34 not upgraded.\n",
            "Reading package lists... Done\n",
            "Building dependency tree       \n",
            "Reading state information... Done\n",
            "ghostscript is already the newest version (9.26~dfsg+0-0ubuntu0.18.04.14).\n",
            "python3-tk is already the newest version (3.6.9-1~18.04).\n",
            "The following package was automatically installed and is no longer required:\n",
            "  libnvidia-common-460\n",
            "Use 'apt autoremove' to remove it.\n",
            "0 upgraded, 0 newly installed, 0 to remove and 34 not upgraded.\n"
          ],
          "name": "stdout"
        }
      ]
    },
    {
      "cell_type": "markdown",
      "metadata": {
        "id": "ZQE6FuyfgdKA"
      },
      "source": [
        "# Example sentences to demo:\n",
        "\n",
        "Ich habe keine Ahnung, was du sagst\n",
        "\n",
        "Mein Mutter sind sehr nett"
      ]
    },
    {
      "cell_type": "code",
      "metadata": {
        "colab": {
          "base_uri": "https://localhost:8080/"
        },
        "id": "yxdtdJsxe7U1",
        "outputId": "c7c33d96-c255-451d-8890-f0b365abbf38"
      },
      "source": [
        "# input sentence\n",
        "sentence = input(\"Enter your sentence: \")\n",
        "print(sentence)"
      ],
      "execution_count": 52,
      "outputs": [
        {
          "output_type": "stream",
          "text": [
            "Enter your sentence: Ich habe keine Ahnung, was du sagst\n",
            "Ich habe keine Ahnung, was du sagst\n"
          ],
          "name": "stdout"
        }
      ]
    },
    {
      "cell_type": "code",
      "metadata": {
        "colab": {
          "base_uri": "https://localhost:8080/",
          "height": 318
        },
        "id": "1n445_Dte-QT",
        "outputId": "012337d3-8c5d-4e6a-8c55-74da6bcb0c53"
      },
      "source": [
        "# tokenization\n",
        "tokenized_sent = nltk.tokenize.word_tokenize(sentence,language='german')\n",
        "\n",
        "# lemmatization\n",
        "tagger = ht.HanoverTagger('morphmodel_ger.pgz')\n",
        "\n",
        "# part of speech tagging\n",
        "tags = tagger.tag_sent(tokenized_sent)\n",
        "pos_tags = [tag[1:] for tag in tags if tag[2] != '$,']\n",
        "print(pos_tags)\n",
        "\n",
        "# grammatical rules\n",
        "chunker = RegexpParser(\"\"\"\n",
        "                       S: {<NP> <VP>}\n",
        "                       S: {<S> <CC>}\n",
        "                       C:{<KOUS|PWS|PRELS>}\n",
        "                       NP: {<DT>?<JJ|PIAT>*<NN|PPOSAT>*} #To extract Noun Phrases\n",
        "                       NP: {<PPER|PDS|NE>}\n",
        "                       P: {<IN>}                        #To extract Prepositions\n",
        "                       V: {<V.*>}                       #To extract Verbs\n",
        "                       PP: {<P|APPR> <NP>}              #To extract Prepostional Phrases\n",
        "                       VP: {<V> <NP|PP|V|ADVP|ADJD>*}   #To extarct Verb Phrases\n",
        "                       ADVP: {<ADV> <ADV|ADJD>}         #To extract Adverbil Phrases\n",
        "                       IP: {<NP|,>+<VP>?}\n",
        "                       CC:{<C|,>+<IP>?}\n",
        "                       \"\"\")\n",
        "\n",
        "output = chunker.parse(pos_tags)\n",
        "print(output)\n",
        "\n",
        "from nltk.tree import Tree\n",
        "from IPython.display import display\n",
        "\n",
        "tree = Tree.fromstring(str(output))\n",
        "display(tree)"
      ],
      "execution_count": 53,
      "outputs": [
        {
          "output_type": "stream",
          "text": [
            "[('ich', 'PPER'), ('haben', 'VAFIN'), ('keine', 'PIAT'), ('Ahnung', 'NN'), ('was', 'PRELS'), ('du', 'PPER'), ('sagen', 'VVFIN')]\n",
            "(S\n",
            "  (IP (NP ich/PPER) (VP (V haben/VAFIN) (NP keine/PIAT Ahnung/NN)))\n",
            "  (CC (C was/PRELS) (IP (NP du/PPER) (VP (V sagen/VVFIN)))))\n"
          ],
          "name": "stdout"
        },
        {
          "output_type": "display_data",
          "data": {
            "image/png": "[encoded data removed]",
            "text/plain": [
              "Tree('S', [Tree('IP', [Tree('NP', ['ich/PPER']), Tree('VP', [Tree('V', ['haben/VAFIN']), Tree('NP', ['keine/PIAT', 'Ahnung/NN'])])]), Tree('CC', [Tree('C', ['was/PRELS']), Tree('IP', [Tree('NP', ['du/PPER']), Tree('VP', [Tree('V', ['sagen/VVFIN'])])])])])"
            ]
          },
          "metadata": {
            "tags": []
          }
        }
      ]
    }
  ]
}